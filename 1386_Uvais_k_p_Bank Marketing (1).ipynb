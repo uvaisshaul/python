{
 "cells": [
  {
   "cell_type": "markdown",
   "id": "974e51ac",
   "metadata": {},
   "source": [
    "# <span style = \"color:gray\"> Bank Marketing Term Deposit Prediction </span>"
   ]
  },
  {
   "cell_type": "markdown",
   "id": "5974fa1d-700a-40b0-b66a-e853e8c0fd4d",
   "metadata": {},
   "source": []
  },
  {
   "cell_type": "code",
   "execution_count": null,
   "id": "8580aba5-f1a6-4822-a200-91ffa8a6d84e",
   "metadata": {},
   "outputs": [],
   "source": []
  },
  {
   "cell_type": "markdown",
   "id": "091b6715",
   "metadata": {},
   "source": [
    "***"
   ]
  },
  {
   "cell_type": "markdown",
   "id": "1e895dda",
   "metadata": {},
   "source": [
    "This is the classic marketing bank dataset uploaded originally in the UCI Machine Learning Repository. The dataset gives you information about a marketing campaign of a financial institution in which you will have to analyze in order to find ways to look for future strategies in order to improve future marketing campaigns for the bank."
   ]
  },
  {
   "cell_type": "markdown",
   "id": "a7c7e9cd",
   "metadata": {},
   "source": [
    "## <span style = \"color: blue\"> Attributes </span>"
   ]
  },
  {
   "cell_type": "markdown",
   "id": "1573df06",
   "metadata": {},
   "source": [
    "* age : Age in years\n",
    "* job : type of job (categorical: ‘admin.’,’blue-collar’,’entrepreneur’,’housemaid’,’management’,’retired’,’self-employed’,’services’,’student’,’technician’,’unemployed’,’unknown’)\n",
    "* marital : marital status (categorical: ‘divorced’,’married’,’single’,’unknown’; note: ‘divorced’ means divorced or widowed)\n",
    "* education (categorical: ‘basic.4y’,’basic.6y’,’basic.9y’,’high.school’,’illiterate’,’professional.course’,’university.degree’,’unknown’)\n",
    "* default: has credit in default? (categorical: ‘no’,’yes’,’unknown’)\n",
    "* housing: has housing loan? (categorical: ‘no’,’yes’,’unknown’)\n",
    "* loan: has personal loan? (categorical: ‘no’,’yes’,’unknown’)\n",
    "* contact: contact communication type (categorical: ‘cellular’,’telephone’)\n",
    "* month: last contact month of year (categorical: ‘jan’, ‘feb’, ‘mar’, …, ‘nov’, ‘dec’)\n",
    "* day: day of the month\n",
    "* duration: last contact duration, in seconds (numeric). Important note: this attribute highly affects the output target (e.g., if duration=0 then y=’no’). Yet, the duration is not known before a call is performed. Also, after the end of the call y is obviously known. Thus, this input should only be included for benchmark purposes and should be discarded if the intention is to have a realistic predictive model.\n",
    "* campaign: number of contacts performed during this campaign and for this client (numeric, includes last contact)\n",
    "* pdays: number of days that passed by after the client was last contacted from a previous campaign (numeric; 999 means client was not previously contacted)\n",
    "* previous: number of contacts performed before this campaign and for this client (numeric)\n",
    "* poutcome: outcome of the previous marketing campaign (categorical: ‘failure’,’nonexistent’,’success’)\n",
    "* deposit : Yes, No"
   ]
  },
  {
   "cell_type": "markdown",
   "id": "e3ebf4bf",
   "metadata": {},
   "source": [
    "## Let's Get Started!"
   ]
  },
  {
   "cell_type": "markdown",
   "id": "d26f43e2",
   "metadata": {},
   "source": [
    "### Import necessary libraries"
   ]
  },
  {
   "cell_type": "code",
   "execution_count": 1,
   "id": "bac23373",
   "metadata": {},
   "outputs": [],
   "source": [
    "import numpy as np\n",
    "import pandas as pd\n",
    "import matplotlib.pyplot as plt\n",
    "import seaborn as sns"
   ]
  },
  {
   "cell_type": "markdown",
   "id": "4d18957e",
   "metadata": {},
   "source": [
    "### Read 'bank.csv' dataset and store it in a DataFrame Variable"
   ]
  },
  {
   "cell_type": "code",
   "execution_count": 56,
   "id": "2ef5b376",
   "metadata": {},
   "outputs": [],
   "source": [
    "df = pd.read_csv('bank.csv')"
   ]
  },
  {
   "cell_type": "markdown",
   "id": "c8338c65",
   "metadata": {},
   "source": [
    "### View the top 5 rows"
   ]
  },
  {
   "cell_type": "code",
   "execution_count": 3,
   "id": "b3857467",
   "metadata": {},
   "outputs": [
    {
     "data": {
      "text/html": [
       "<div>\n",
       "<style scoped>\n",
       "    .dataframe tbody tr th:only-of-type {\n",
       "        vertical-align: middle;\n",
       "    }\n",
       "\n",
       "    .dataframe tbody tr th {\n",
       "        vertical-align: top;\n",
       "    }\n",
       "\n",
       "    .dataframe thead th {\n",
       "        text-align: right;\n",
       "    }\n",
       "</style>\n",
       "<table border=\"1\" class=\"dataframe\">\n",
       "  <thead>\n",
       "    <tr style=\"text-align: right;\">\n",
       "      <th></th>\n",
       "      <th>age</th>\n",
       "      <th>job</th>\n",
       "      <th>marital</th>\n",
       "      <th>education</th>\n",
       "      <th>default</th>\n",
       "      <th>balance</th>\n",
       "      <th>housing</th>\n",
       "      <th>loan</th>\n",
       "      <th>contact</th>\n",
       "      <th>day</th>\n",
       "      <th>month</th>\n",
       "      <th>duration</th>\n",
       "      <th>campaign</th>\n",
       "      <th>pdays</th>\n",
       "      <th>previous</th>\n",
       "      <th>poutcome</th>\n",
       "      <th>deposit</th>\n",
       "    </tr>\n",
       "  </thead>\n",
       "  <tbody>\n",
       "    <tr>\n",
       "      <th>0</th>\n",
       "      <td>59</td>\n",
       "      <td>admin.</td>\n",
       "      <td>married</td>\n",
       "      <td>secondary</td>\n",
       "      <td>no</td>\n",
       "      <td>2343</td>\n",
       "      <td>yes</td>\n",
       "      <td>no</td>\n",
       "      <td>unknown</td>\n",
       "      <td>5</td>\n",
       "      <td>may</td>\n",
       "      <td>1042</td>\n",
       "      <td>1</td>\n",
       "      <td>-1</td>\n",
       "      <td>0</td>\n",
       "      <td>unknown</td>\n",
       "      <td>yes</td>\n",
       "    </tr>\n",
       "    <tr>\n",
       "      <th>1</th>\n",
       "      <td>56</td>\n",
       "      <td>admin.</td>\n",
       "      <td>married</td>\n",
       "      <td>secondary</td>\n",
       "      <td>no</td>\n",
       "      <td>45</td>\n",
       "      <td>no</td>\n",
       "      <td>no</td>\n",
       "      <td>unknown</td>\n",
       "      <td>5</td>\n",
       "      <td>may</td>\n",
       "      <td>1467</td>\n",
       "      <td>1</td>\n",
       "      <td>-1</td>\n",
       "      <td>0</td>\n",
       "      <td>unknown</td>\n",
       "      <td>yes</td>\n",
       "    </tr>\n",
       "    <tr>\n",
       "      <th>2</th>\n",
       "      <td>41</td>\n",
       "      <td>technician</td>\n",
       "      <td>married</td>\n",
       "      <td>secondary</td>\n",
       "      <td>no</td>\n",
       "      <td>1270</td>\n",
       "      <td>yes</td>\n",
       "      <td>no</td>\n",
       "      <td>unknown</td>\n",
       "      <td>5</td>\n",
       "      <td>may</td>\n",
       "      <td>1389</td>\n",
       "      <td>1</td>\n",
       "      <td>-1</td>\n",
       "      <td>0</td>\n",
       "      <td>unknown</td>\n",
       "      <td>yes</td>\n",
       "    </tr>\n",
       "    <tr>\n",
       "      <th>3</th>\n",
       "      <td>55</td>\n",
       "      <td>services</td>\n",
       "      <td>married</td>\n",
       "      <td>secondary</td>\n",
       "      <td>no</td>\n",
       "      <td>2476</td>\n",
       "      <td>yes</td>\n",
       "      <td>no</td>\n",
       "      <td>unknown</td>\n",
       "      <td>5</td>\n",
       "      <td>may</td>\n",
       "      <td>579</td>\n",
       "      <td>1</td>\n",
       "      <td>-1</td>\n",
       "      <td>0</td>\n",
       "      <td>unknown</td>\n",
       "      <td>yes</td>\n",
       "    </tr>\n",
       "    <tr>\n",
       "      <th>4</th>\n",
       "      <td>54</td>\n",
       "      <td>admin.</td>\n",
       "      <td>married</td>\n",
       "      <td>tertiary</td>\n",
       "      <td>no</td>\n",
       "      <td>184</td>\n",
       "      <td>no</td>\n",
       "      <td>no</td>\n",
       "      <td>unknown</td>\n",
       "      <td>5</td>\n",
       "      <td>may</td>\n",
       "      <td>673</td>\n",
       "      <td>2</td>\n",
       "      <td>-1</td>\n",
       "      <td>0</td>\n",
       "      <td>unknown</td>\n",
       "      <td>yes</td>\n",
       "    </tr>\n",
       "  </tbody>\n",
       "</table>\n",
       "</div>"
      ],
      "text/plain": [
       "   age         job  marital  education default  balance housing loan  contact  \\\n",
       "0   59      admin.  married  secondary      no     2343     yes   no  unknown   \n",
       "1   56      admin.  married  secondary      no       45      no   no  unknown   \n",
       "2   41  technician  married  secondary      no     1270     yes   no  unknown   \n",
       "3   55    services  married  secondary      no     2476     yes   no  unknown   \n",
       "4   54      admin.  married   tertiary      no      184      no   no  unknown   \n",
       "\n",
       "   day month  duration  campaign  pdays  previous poutcome deposit  \n",
       "0    5   may      1042         1     -1         0  unknown     yes  \n",
       "1    5   may      1467         1     -1         0  unknown     yes  \n",
       "2    5   may      1389         1     -1         0  unknown     yes  \n",
       "3    5   may       579         1     -1         0  unknown     yes  \n",
       "4    5   may       673         2     -1         0  unknown     yes  "
      ]
     },
     "execution_count": 3,
     "metadata": {},
     "output_type": "execute_result"
    }
   ],
   "source": [
    "df.head()"
   ]
  },
  {
   "cell_type": "markdown",
   "id": "cca0afae",
   "metadata": {},
   "source": [
    "### View info of the dataset"
   ]
  },
  {
   "cell_type": "code",
   "execution_count": 4,
   "id": "f8190b9e",
   "metadata": {},
   "outputs": [
    {
     "name": "stdout",
     "output_type": "stream",
     "text": [
      "<class 'pandas.core.frame.DataFrame'>\n",
      "RangeIndex: 11162 entries, 0 to 11161\n",
      "Data columns (total 17 columns):\n",
      " #   Column     Non-Null Count  Dtype \n",
      "---  ------     --------------  ----- \n",
      " 0   age        11162 non-null  int64 \n",
      " 1   job        11162 non-null  object\n",
      " 2   marital    11162 non-null  object\n",
      " 3   education  11162 non-null  object\n",
      " 4   default    11162 non-null  object\n",
      " 5   balance    11162 non-null  int64 \n",
      " 6   housing    11162 non-null  object\n",
      " 7   loan       11162 non-null  object\n",
      " 8   contact    11162 non-null  object\n",
      " 9   day        11162 non-null  int64 \n",
      " 10  month      11162 non-null  object\n",
      " 11  duration   11162 non-null  int64 \n",
      " 12  campaign   11162 non-null  int64 \n",
      " 13  pdays      11162 non-null  int64 \n",
      " 14  previous   11162 non-null  int64 \n",
      " 15  poutcome   11162 non-null  object\n",
      " 16  deposit    11162 non-null  object\n",
      "dtypes: int64(7), object(10)\n",
      "memory usage: 1.4+ MB\n"
     ]
    }
   ],
   "source": [
    "df.info()"
   ]
  },
  {
   "cell_type": "markdown",
   "id": "90675867",
   "metadata": {},
   "source": [
    "### View the basic Statistical information about the dataset"
   ]
  },
  {
   "cell_type": "code",
   "execution_count": 5,
   "id": "b55a63a3",
   "metadata": {},
   "outputs": [
    {
     "data": {
      "text/html": [
       "<div>\n",
       "<style scoped>\n",
       "    .dataframe tbody tr th:only-of-type {\n",
       "        vertical-align: middle;\n",
       "    }\n",
       "\n",
       "    .dataframe tbody tr th {\n",
       "        vertical-align: top;\n",
       "    }\n",
       "\n",
       "    .dataframe thead th {\n",
       "        text-align: right;\n",
       "    }\n",
       "</style>\n",
       "<table border=\"1\" class=\"dataframe\">\n",
       "  <thead>\n",
       "    <tr style=\"text-align: right;\">\n",
       "      <th></th>\n",
       "      <th>age</th>\n",
       "      <th>balance</th>\n",
       "      <th>day</th>\n",
       "      <th>duration</th>\n",
       "      <th>campaign</th>\n",
       "      <th>pdays</th>\n",
       "      <th>previous</th>\n",
       "    </tr>\n",
       "  </thead>\n",
       "  <tbody>\n",
       "    <tr>\n",
       "      <th>count</th>\n",
       "      <td>11162.000000</td>\n",
       "      <td>11162.000000</td>\n",
       "      <td>11162.000000</td>\n",
       "      <td>11162.000000</td>\n",
       "      <td>11162.000000</td>\n",
       "      <td>11162.000000</td>\n",
       "      <td>11162.000000</td>\n",
       "    </tr>\n",
       "    <tr>\n",
       "      <th>mean</th>\n",
       "      <td>41.231948</td>\n",
       "      <td>1528.538524</td>\n",
       "      <td>15.658036</td>\n",
       "      <td>371.993818</td>\n",
       "      <td>2.508421</td>\n",
       "      <td>51.330407</td>\n",
       "      <td>0.832557</td>\n",
       "    </tr>\n",
       "    <tr>\n",
       "      <th>std</th>\n",
       "      <td>11.913369</td>\n",
       "      <td>3225.413326</td>\n",
       "      <td>8.420740</td>\n",
       "      <td>347.128386</td>\n",
       "      <td>2.722077</td>\n",
       "      <td>108.758282</td>\n",
       "      <td>2.292007</td>\n",
       "    </tr>\n",
       "    <tr>\n",
       "      <th>min</th>\n",
       "      <td>18.000000</td>\n",
       "      <td>-6847.000000</td>\n",
       "      <td>1.000000</td>\n",
       "      <td>2.000000</td>\n",
       "      <td>1.000000</td>\n",
       "      <td>-1.000000</td>\n",
       "      <td>0.000000</td>\n",
       "    </tr>\n",
       "    <tr>\n",
       "      <th>25%</th>\n",
       "      <td>32.000000</td>\n",
       "      <td>122.000000</td>\n",
       "      <td>8.000000</td>\n",
       "      <td>138.000000</td>\n",
       "      <td>1.000000</td>\n",
       "      <td>-1.000000</td>\n",
       "      <td>0.000000</td>\n",
       "    </tr>\n",
       "    <tr>\n",
       "      <th>50%</th>\n",
       "      <td>39.000000</td>\n",
       "      <td>550.000000</td>\n",
       "      <td>15.000000</td>\n",
       "      <td>255.000000</td>\n",
       "      <td>2.000000</td>\n",
       "      <td>-1.000000</td>\n",
       "      <td>0.000000</td>\n",
       "    </tr>\n",
       "    <tr>\n",
       "      <th>75%</th>\n",
       "      <td>49.000000</td>\n",
       "      <td>1708.000000</td>\n",
       "      <td>22.000000</td>\n",
       "      <td>496.000000</td>\n",
       "      <td>3.000000</td>\n",
       "      <td>20.750000</td>\n",
       "      <td>1.000000</td>\n",
       "    </tr>\n",
       "    <tr>\n",
       "      <th>max</th>\n",
       "      <td>95.000000</td>\n",
       "      <td>81204.000000</td>\n",
       "      <td>31.000000</td>\n",
       "      <td>3881.000000</td>\n",
       "      <td>63.000000</td>\n",
       "      <td>854.000000</td>\n",
       "      <td>58.000000</td>\n",
       "    </tr>\n",
       "  </tbody>\n",
       "</table>\n",
       "</div>"
      ],
      "text/plain": [
       "                age       balance           day      duration      campaign  \\\n",
       "count  11162.000000  11162.000000  11162.000000  11162.000000  11162.000000   \n",
       "mean      41.231948   1528.538524     15.658036    371.993818      2.508421   \n",
       "std       11.913369   3225.413326      8.420740    347.128386      2.722077   \n",
       "min       18.000000  -6847.000000      1.000000      2.000000      1.000000   \n",
       "25%       32.000000    122.000000      8.000000    138.000000      1.000000   \n",
       "50%       39.000000    550.000000     15.000000    255.000000      2.000000   \n",
       "75%       49.000000   1708.000000     22.000000    496.000000      3.000000   \n",
       "max       95.000000  81204.000000     31.000000   3881.000000     63.000000   \n",
       "\n",
       "              pdays      previous  \n",
       "count  11162.000000  11162.000000  \n",
       "mean      51.330407      0.832557  \n",
       "std      108.758282      2.292007  \n",
       "min       -1.000000      0.000000  \n",
       "25%       -1.000000      0.000000  \n",
       "50%       -1.000000      0.000000  \n",
       "75%       20.750000      1.000000  \n",
       "max      854.000000     58.000000  "
      ]
     },
     "execution_count": 5,
     "metadata": {},
     "output_type": "execute_result"
    }
   ],
   "source": [
    "df.describe()"
   ]
  },
  {
   "cell_type": "markdown",
   "id": "89bbdfa6",
   "metadata": {},
   "source": [
    "### Check for null values"
   ]
  },
  {
   "cell_type": "code",
   "execution_count": 6,
   "id": "207307ae",
   "metadata": {},
   "outputs": [
    {
     "data": {
      "text/plain": [
       "age          0\n",
       "job          0\n",
       "marital      0\n",
       "education    0\n",
       "default      0\n",
       "balance      0\n",
       "housing      0\n",
       "loan         0\n",
       "contact      0\n",
       "day          0\n",
       "month        0\n",
       "duration     0\n",
       "campaign     0\n",
       "pdays        0\n",
       "previous     0\n",
       "poutcome     0\n",
       "deposit      0\n",
       "dtype: int64"
      ]
     },
     "execution_count": 6,
     "metadata": {},
     "output_type": "execute_result"
    }
   ],
   "source": [
    "df.isna().sum()"
   ]
  },
  {
   "cell_type": "markdown",
   "id": "a1ecce61",
   "metadata": {},
   "source": [
    "### View unique values in all categorical features"
   ]
  },
  {
   "cell_type": "code",
   "execution_count": null,
   "id": "8c94d714-12a3-49e3-bb27-ee3e27f7cd30",
   "metadata": {},
   "outputs": [],
   "source": []
  },
  {
   "cell_type": "code",
   "execution_count": 8,
   "id": "7e6b238b",
   "metadata": {},
   "outputs": [
    {
     "name": "stdout",
     "output_type": "stream",
     "text": [
      "Unique values in job are ['admin.', 'technician', 'services', 'management', 'retired', 'blue-collar', 'unemployed', 'entrepreneur', 'housemaid', 'unknown', 'self-employed', 'student']\n",
      "Unique values in marital are ['married', 'single', 'divorced']\n",
      "Unique values in education are ['secondary', 'tertiary', 'primary', 'unknown']\n",
      "Unique values in default are ['no', 'yes']\n",
      "Unique values in housing are ['yes', 'no']\n",
      "Unique values in loan are ['no', 'yes']\n",
      "Unique values in contact are ['unknown', 'cellular', 'telephone']\n",
      "Unique values in month are ['may', 'jun', 'jul', 'aug', 'oct', 'nov', 'dec', 'jan', 'feb', 'mar', 'apr', 'sep']\n",
      "Unique values in poutcome are ['unknown', 'other', 'failure', 'success']\n"
     ]
    }
   ],
   "source": [
    "categorical_columns = ['job', 'marital', 'education', 'default', 'housing', 'loan', 'contact', 'month', 'poutcome']\n",
    "\n",
    "for feature in categorical_columns:\n",
    "    print(f'Unique values in {feature} are',df[feature].unique().tolist())\n"
   ]
  },
  {
   "cell_type": "markdown",
   "id": "e6e9d5ce",
   "metadata": {},
   "source": [
    "### Change categorical features into nominal by OneHotEncoding"
   ]
  },
  {
   "cell_type": "markdown",
   "id": "0e4329b5",
   "metadata": {},
   "source": [
    "#### Note: Make sure to exclude deposit column as it is our target variable"
   ]
  },
  {
   "cell_type": "code",
   "execution_count": 14,
   "id": "db4d1555",
   "metadata": {},
   "outputs": [],
   "source": [
    "pd.set_option('display.max_columns', None) # Used to views columns nontruncated"
   ]
  },
  {
   "cell_type": "code",
   "execution_count": 57,
   "id": "d23998c8",
   "metadata": {},
   "outputs": [],
   "source": [
    "dummy = pd.get_dummies(df.drop(['deposit'],axis=1),drop_first=True,dtype=int)"
   ]
  },
  {
   "cell_type": "markdown",
   "id": "f06f45c9",
   "metadata": {},
   "source": [
    "### Create a function to change Yes to 1 and No to 0 in deposit "
   ]
  },
  {
   "cell_type": "code",
   "execution_count": 58,
   "id": "d4118a9b",
   "metadata": {},
   "outputs": [],
   "source": [
    "final_df=pd.concat([dummy,df[\"deposit\"]],axis=1)"
   ]
  },
  {
   "cell_type": "markdown",
   "id": "9b71399d",
   "metadata": {},
   "source": [
    "### Apply the function to deposit column"
   ]
  },
  {
   "cell_type": "code",
   "execution_count": 59,
   "id": "8770f1fa",
   "metadata": {},
   "outputs": [],
   "source": [
    "def map_target(x):\n",
    "    return 1 if x=='yes' else 0"
   ]
  },
  {
   "cell_type": "code",
   "execution_count": 61,
   "id": "6e9abf9d",
   "metadata": {},
   "outputs": [],
   "source": [
    "final_df['deposit']=final_df['deposit'].apply(map_target)"
   ]
  },
  {
   "cell_type": "code",
   "execution_count": 62,
   "id": "4869a685",
   "metadata": {},
   "outputs": [
    {
     "data": {
      "text/html": [
       "<div>\n",
       "<style scoped>\n",
       "    .dataframe tbody tr th:only-of-type {\n",
       "        vertical-align: middle;\n",
       "    }\n",
       "\n",
       "    .dataframe tbody tr th {\n",
       "        vertical-align: top;\n",
       "    }\n",
       "\n",
       "    .dataframe thead th {\n",
       "        text-align: right;\n",
       "    }\n",
       "</style>\n",
       "<table border=\"1\" class=\"dataframe\">\n",
       "  <thead>\n",
       "    <tr style=\"text-align: right;\">\n",
       "      <th></th>\n",
       "      <th>age</th>\n",
       "      <th>balance</th>\n",
       "      <th>day</th>\n",
       "      <th>duration</th>\n",
       "      <th>campaign</th>\n",
       "      <th>pdays</th>\n",
       "      <th>previous</th>\n",
       "      <th>job_blue-collar</th>\n",
       "      <th>job_entrepreneur</th>\n",
       "      <th>job_housemaid</th>\n",
       "      <th>job_management</th>\n",
       "      <th>job_retired</th>\n",
       "      <th>job_self-employed</th>\n",
       "      <th>job_services</th>\n",
       "      <th>job_student</th>\n",
       "      <th>job_technician</th>\n",
       "      <th>job_unemployed</th>\n",
       "      <th>job_unknown</th>\n",
       "      <th>marital_married</th>\n",
       "      <th>marital_single</th>\n",
       "      <th>education_secondary</th>\n",
       "      <th>education_tertiary</th>\n",
       "      <th>education_unknown</th>\n",
       "      <th>default_yes</th>\n",
       "      <th>housing_yes</th>\n",
       "      <th>loan_yes</th>\n",
       "      <th>contact_telephone</th>\n",
       "      <th>contact_unknown</th>\n",
       "      <th>month_aug</th>\n",
       "      <th>month_dec</th>\n",
       "      <th>month_feb</th>\n",
       "      <th>month_jan</th>\n",
       "      <th>month_jul</th>\n",
       "      <th>month_jun</th>\n",
       "      <th>month_mar</th>\n",
       "      <th>month_may</th>\n",
       "      <th>month_nov</th>\n",
       "      <th>month_oct</th>\n",
       "      <th>month_sep</th>\n",
       "      <th>poutcome_other</th>\n",
       "      <th>poutcome_success</th>\n",
       "      <th>poutcome_unknown</th>\n",
       "      <th>deposit</th>\n",
       "    </tr>\n",
       "  </thead>\n",
       "  <tbody>\n",
       "    <tr>\n",
       "      <th>0</th>\n",
       "      <td>59</td>\n",
       "      <td>2343</td>\n",
       "      <td>5</td>\n",
       "      <td>1042</td>\n",
       "      <td>1</td>\n",
       "      <td>-1</td>\n",
       "      <td>0</td>\n",
       "      <td>0</td>\n",
       "      <td>0</td>\n",
       "      <td>0</td>\n",
       "      <td>0</td>\n",
       "      <td>0</td>\n",
       "      <td>0</td>\n",
       "      <td>0</td>\n",
       "      <td>0</td>\n",
       "      <td>0</td>\n",
       "      <td>0</td>\n",
       "      <td>0</td>\n",
       "      <td>1</td>\n",
       "      <td>0</td>\n",
       "      <td>1</td>\n",
       "      <td>0</td>\n",
       "      <td>0</td>\n",
       "      <td>0</td>\n",
       "      <td>1</td>\n",
       "      <td>0</td>\n",
       "      <td>0</td>\n",
       "      <td>1</td>\n",
       "      <td>0</td>\n",
       "      <td>0</td>\n",
       "      <td>0</td>\n",
       "      <td>0</td>\n",
       "      <td>0</td>\n",
       "      <td>0</td>\n",
       "      <td>0</td>\n",
       "      <td>1</td>\n",
       "      <td>0</td>\n",
       "      <td>0</td>\n",
       "      <td>0</td>\n",
       "      <td>0</td>\n",
       "      <td>0</td>\n",
       "      <td>1</td>\n",
       "      <td>1</td>\n",
       "    </tr>\n",
       "    <tr>\n",
       "      <th>1</th>\n",
       "      <td>56</td>\n",
       "      <td>45</td>\n",
       "      <td>5</td>\n",
       "      <td>1467</td>\n",
       "      <td>1</td>\n",
       "      <td>-1</td>\n",
       "      <td>0</td>\n",
       "      <td>0</td>\n",
       "      <td>0</td>\n",
       "      <td>0</td>\n",
       "      <td>0</td>\n",
       "      <td>0</td>\n",
       "      <td>0</td>\n",
       "      <td>0</td>\n",
       "      <td>0</td>\n",
       "      <td>0</td>\n",
       "      <td>0</td>\n",
       "      <td>0</td>\n",
       "      <td>1</td>\n",
       "      <td>0</td>\n",
       "      <td>1</td>\n",
       "      <td>0</td>\n",
       "      <td>0</td>\n",
       "      <td>0</td>\n",
       "      <td>0</td>\n",
       "      <td>0</td>\n",
       "      <td>0</td>\n",
       "      <td>1</td>\n",
       "      <td>0</td>\n",
       "      <td>0</td>\n",
       "      <td>0</td>\n",
       "      <td>0</td>\n",
       "      <td>0</td>\n",
       "      <td>0</td>\n",
       "      <td>0</td>\n",
       "      <td>1</td>\n",
       "      <td>0</td>\n",
       "      <td>0</td>\n",
       "      <td>0</td>\n",
       "      <td>0</td>\n",
       "      <td>0</td>\n",
       "      <td>1</td>\n",
       "      <td>1</td>\n",
       "    </tr>\n",
       "    <tr>\n",
       "      <th>2</th>\n",
       "      <td>41</td>\n",
       "      <td>1270</td>\n",
       "      <td>5</td>\n",
       "      <td>1389</td>\n",
       "      <td>1</td>\n",
       "      <td>-1</td>\n",
       "      <td>0</td>\n",
       "      <td>0</td>\n",
       "      <td>0</td>\n",
       "      <td>0</td>\n",
       "      <td>0</td>\n",
       "      <td>0</td>\n",
       "      <td>0</td>\n",
       "      <td>0</td>\n",
       "      <td>0</td>\n",
       "      <td>1</td>\n",
       "      <td>0</td>\n",
       "      <td>0</td>\n",
       "      <td>1</td>\n",
       "      <td>0</td>\n",
       "      <td>1</td>\n",
       "      <td>0</td>\n",
       "      <td>0</td>\n",
       "      <td>0</td>\n",
       "      <td>1</td>\n",
       "      <td>0</td>\n",
       "      <td>0</td>\n",
       "      <td>1</td>\n",
       "      <td>0</td>\n",
       "      <td>0</td>\n",
       "      <td>0</td>\n",
       "      <td>0</td>\n",
       "      <td>0</td>\n",
       "      <td>0</td>\n",
       "      <td>0</td>\n",
       "      <td>1</td>\n",
       "      <td>0</td>\n",
       "      <td>0</td>\n",
       "      <td>0</td>\n",
       "      <td>0</td>\n",
       "      <td>0</td>\n",
       "      <td>1</td>\n",
       "      <td>1</td>\n",
       "    </tr>\n",
       "    <tr>\n",
       "      <th>3</th>\n",
       "      <td>55</td>\n",
       "      <td>2476</td>\n",
       "      <td>5</td>\n",
       "      <td>579</td>\n",
       "      <td>1</td>\n",
       "      <td>-1</td>\n",
       "      <td>0</td>\n",
       "      <td>0</td>\n",
       "      <td>0</td>\n",
       "      <td>0</td>\n",
       "      <td>0</td>\n",
       "      <td>0</td>\n",
       "      <td>0</td>\n",
       "      <td>1</td>\n",
       "      <td>0</td>\n",
       "      <td>0</td>\n",
       "      <td>0</td>\n",
       "      <td>0</td>\n",
       "      <td>1</td>\n",
       "      <td>0</td>\n",
       "      <td>1</td>\n",
       "      <td>0</td>\n",
       "      <td>0</td>\n",
       "      <td>0</td>\n",
       "      <td>1</td>\n",
       "      <td>0</td>\n",
       "      <td>0</td>\n",
       "      <td>1</td>\n",
       "      <td>0</td>\n",
       "      <td>0</td>\n",
       "      <td>0</td>\n",
       "      <td>0</td>\n",
       "      <td>0</td>\n",
       "      <td>0</td>\n",
       "      <td>0</td>\n",
       "      <td>1</td>\n",
       "      <td>0</td>\n",
       "      <td>0</td>\n",
       "      <td>0</td>\n",
       "      <td>0</td>\n",
       "      <td>0</td>\n",
       "      <td>1</td>\n",
       "      <td>1</td>\n",
       "    </tr>\n",
       "    <tr>\n",
       "      <th>4</th>\n",
       "      <td>54</td>\n",
       "      <td>184</td>\n",
       "      <td>5</td>\n",
       "      <td>673</td>\n",
       "      <td>2</td>\n",
       "      <td>-1</td>\n",
       "      <td>0</td>\n",
       "      <td>0</td>\n",
       "      <td>0</td>\n",
       "      <td>0</td>\n",
       "      <td>0</td>\n",
       "      <td>0</td>\n",
       "      <td>0</td>\n",
       "      <td>0</td>\n",
       "      <td>0</td>\n",
       "      <td>0</td>\n",
       "      <td>0</td>\n",
       "      <td>0</td>\n",
       "      <td>1</td>\n",
       "      <td>0</td>\n",
       "      <td>0</td>\n",
       "      <td>1</td>\n",
       "      <td>0</td>\n",
       "      <td>0</td>\n",
       "      <td>0</td>\n",
       "      <td>0</td>\n",
       "      <td>0</td>\n",
       "      <td>1</td>\n",
       "      <td>0</td>\n",
       "      <td>0</td>\n",
       "      <td>0</td>\n",
       "      <td>0</td>\n",
       "      <td>0</td>\n",
       "      <td>0</td>\n",
       "      <td>0</td>\n",
       "      <td>1</td>\n",
       "      <td>0</td>\n",
       "      <td>0</td>\n",
       "      <td>0</td>\n",
       "      <td>0</td>\n",
       "      <td>0</td>\n",
       "      <td>1</td>\n",
       "      <td>1</td>\n",
       "    </tr>\n",
       "    <tr>\n",
       "      <th>...</th>\n",
       "      <td>...</td>\n",
       "      <td>...</td>\n",
       "      <td>...</td>\n",
       "      <td>...</td>\n",
       "      <td>...</td>\n",
       "      <td>...</td>\n",
       "      <td>...</td>\n",
       "      <td>...</td>\n",
       "      <td>...</td>\n",
       "      <td>...</td>\n",
       "      <td>...</td>\n",
       "      <td>...</td>\n",
       "      <td>...</td>\n",
       "      <td>...</td>\n",
       "      <td>...</td>\n",
       "      <td>...</td>\n",
       "      <td>...</td>\n",
       "      <td>...</td>\n",
       "      <td>...</td>\n",
       "      <td>...</td>\n",
       "      <td>...</td>\n",
       "      <td>...</td>\n",
       "      <td>...</td>\n",
       "      <td>...</td>\n",
       "      <td>...</td>\n",
       "      <td>...</td>\n",
       "      <td>...</td>\n",
       "      <td>...</td>\n",
       "      <td>...</td>\n",
       "      <td>...</td>\n",
       "      <td>...</td>\n",
       "      <td>...</td>\n",
       "      <td>...</td>\n",
       "      <td>...</td>\n",
       "      <td>...</td>\n",
       "      <td>...</td>\n",
       "      <td>...</td>\n",
       "      <td>...</td>\n",
       "      <td>...</td>\n",
       "      <td>...</td>\n",
       "      <td>...</td>\n",
       "      <td>...</td>\n",
       "      <td>...</td>\n",
       "    </tr>\n",
       "    <tr>\n",
       "      <th>11157</th>\n",
       "      <td>33</td>\n",
       "      <td>1</td>\n",
       "      <td>20</td>\n",
       "      <td>257</td>\n",
       "      <td>1</td>\n",
       "      <td>-1</td>\n",
       "      <td>0</td>\n",
       "      <td>1</td>\n",
       "      <td>0</td>\n",
       "      <td>0</td>\n",
       "      <td>0</td>\n",
       "      <td>0</td>\n",
       "      <td>0</td>\n",
       "      <td>0</td>\n",
       "      <td>0</td>\n",
       "      <td>0</td>\n",
       "      <td>0</td>\n",
       "      <td>0</td>\n",
       "      <td>0</td>\n",
       "      <td>1</td>\n",
       "      <td>0</td>\n",
       "      <td>0</td>\n",
       "      <td>0</td>\n",
       "      <td>0</td>\n",
       "      <td>1</td>\n",
       "      <td>0</td>\n",
       "      <td>0</td>\n",
       "      <td>0</td>\n",
       "      <td>0</td>\n",
       "      <td>0</td>\n",
       "      <td>0</td>\n",
       "      <td>0</td>\n",
       "      <td>0</td>\n",
       "      <td>0</td>\n",
       "      <td>0</td>\n",
       "      <td>0</td>\n",
       "      <td>0</td>\n",
       "      <td>0</td>\n",
       "      <td>0</td>\n",
       "      <td>0</td>\n",
       "      <td>0</td>\n",
       "      <td>1</td>\n",
       "      <td>0</td>\n",
       "    </tr>\n",
       "    <tr>\n",
       "      <th>11158</th>\n",
       "      <td>39</td>\n",
       "      <td>733</td>\n",
       "      <td>16</td>\n",
       "      <td>83</td>\n",
       "      <td>4</td>\n",
       "      <td>-1</td>\n",
       "      <td>0</td>\n",
       "      <td>0</td>\n",
       "      <td>0</td>\n",
       "      <td>0</td>\n",
       "      <td>0</td>\n",
       "      <td>0</td>\n",
       "      <td>0</td>\n",
       "      <td>1</td>\n",
       "      <td>0</td>\n",
       "      <td>0</td>\n",
       "      <td>0</td>\n",
       "      <td>0</td>\n",
       "      <td>1</td>\n",
       "      <td>0</td>\n",
       "      <td>1</td>\n",
       "      <td>0</td>\n",
       "      <td>0</td>\n",
       "      <td>0</td>\n",
       "      <td>0</td>\n",
       "      <td>0</td>\n",
       "      <td>0</td>\n",
       "      <td>1</td>\n",
       "      <td>0</td>\n",
       "      <td>0</td>\n",
       "      <td>0</td>\n",
       "      <td>0</td>\n",
       "      <td>0</td>\n",
       "      <td>1</td>\n",
       "      <td>0</td>\n",
       "      <td>0</td>\n",
       "      <td>0</td>\n",
       "      <td>0</td>\n",
       "      <td>0</td>\n",
       "      <td>0</td>\n",
       "      <td>0</td>\n",
       "      <td>1</td>\n",
       "      <td>0</td>\n",
       "    </tr>\n",
       "    <tr>\n",
       "      <th>11159</th>\n",
       "      <td>32</td>\n",
       "      <td>29</td>\n",
       "      <td>19</td>\n",
       "      <td>156</td>\n",
       "      <td>2</td>\n",
       "      <td>-1</td>\n",
       "      <td>0</td>\n",
       "      <td>0</td>\n",
       "      <td>0</td>\n",
       "      <td>0</td>\n",
       "      <td>0</td>\n",
       "      <td>0</td>\n",
       "      <td>0</td>\n",
       "      <td>0</td>\n",
       "      <td>0</td>\n",
       "      <td>1</td>\n",
       "      <td>0</td>\n",
       "      <td>0</td>\n",
       "      <td>0</td>\n",
       "      <td>1</td>\n",
       "      <td>1</td>\n",
       "      <td>0</td>\n",
       "      <td>0</td>\n",
       "      <td>0</td>\n",
       "      <td>0</td>\n",
       "      <td>0</td>\n",
       "      <td>0</td>\n",
       "      <td>0</td>\n",
       "      <td>1</td>\n",
       "      <td>0</td>\n",
       "      <td>0</td>\n",
       "      <td>0</td>\n",
       "      <td>0</td>\n",
       "      <td>0</td>\n",
       "      <td>0</td>\n",
       "      <td>0</td>\n",
       "      <td>0</td>\n",
       "      <td>0</td>\n",
       "      <td>0</td>\n",
       "      <td>0</td>\n",
       "      <td>0</td>\n",
       "      <td>1</td>\n",
       "      <td>0</td>\n",
       "    </tr>\n",
       "    <tr>\n",
       "      <th>11160</th>\n",
       "      <td>43</td>\n",
       "      <td>0</td>\n",
       "      <td>8</td>\n",
       "      <td>9</td>\n",
       "      <td>2</td>\n",
       "      <td>172</td>\n",
       "      <td>5</td>\n",
       "      <td>0</td>\n",
       "      <td>0</td>\n",
       "      <td>0</td>\n",
       "      <td>0</td>\n",
       "      <td>0</td>\n",
       "      <td>0</td>\n",
       "      <td>0</td>\n",
       "      <td>0</td>\n",
       "      <td>1</td>\n",
       "      <td>0</td>\n",
       "      <td>0</td>\n",
       "      <td>1</td>\n",
       "      <td>0</td>\n",
       "      <td>1</td>\n",
       "      <td>0</td>\n",
       "      <td>0</td>\n",
       "      <td>0</td>\n",
       "      <td>0</td>\n",
       "      <td>1</td>\n",
       "      <td>0</td>\n",
       "      <td>0</td>\n",
       "      <td>0</td>\n",
       "      <td>0</td>\n",
       "      <td>0</td>\n",
       "      <td>0</td>\n",
       "      <td>0</td>\n",
       "      <td>0</td>\n",
       "      <td>0</td>\n",
       "      <td>1</td>\n",
       "      <td>0</td>\n",
       "      <td>0</td>\n",
       "      <td>0</td>\n",
       "      <td>0</td>\n",
       "      <td>0</td>\n",
       "      <td>0</td>\n",
       "      <td>0</td>\n",
       "    </tr>\n",
       "    <tr>\n",
       "      <th>11161</th>\n",
       "      <td>34</td>\n",
       "      <td>0</td>\n",
       "      <td>9</td>\n",
       "      <td>628</td>\n",
       "      <td>1</td>\n",
       "      <td>-1</td>\n",
       "      <td>0</td>\n",
       "      <td>0</td>\n",
       "      <td>0</td>\n",
       "      <td>0</td>\n",
       "      <td>0</td>\n",
       "      <td>0</td>\n",
       "      <td>0</td>\n",
       "      <td>0</td>\n",
       "      <td>0</td>\n",
       "      <td>1</td>\n",
       "      <td>0</td>\n",
       "      <td>0</td>\n",
       "      <td>1</td>\n",
       "      <td>0</td>\n",
       "      <td>1</td>\n",
       "      <td>0</td>\n",
       "      <td>0</td>\n",
       "      <td>0</td>\n",
       "      <td>0</td>\n",
       "      <td>0</td>\n",
       "      <td>0</td>\n",
       "      <td>0</td>\n",
       "      <td>0</td>\n",
       "      <td>0</td>\n",
       "      <td>0</td>\n",
       "      <td>0</td>\n",
       "      <td>1</td>\n",
       "      <td>0</td>\n",
       "      <td>0</td>\n",
       "      <td>0</td>\n",
       "      <td>0</td>\n",
       "      <td>0</td>\n",
       "      <td>0</td>\n",
       "      <td>0</td>\n",
       "      <td>0</td>\n",
       "      <td>1</td>\n",
       "      <td>0</td>\n",
       "    </tr>\n",
       "  </tbody>\n",
       "</table>\n",
       "<p>11162 rows × 43 columns</p>\n",
       "</div>"
      ],
      "text/plain": [
       "       age  balance  day  duration  campaign  pdays  previous  \\\n",
       "0       59     2343    5      1042         1     -1         0   \n",
       "1       56       45    5      1467         1     -1         0   \n",
       "2       41     1270    5      1389         1     -1         0   \n",
       "3       55     2476    5       579         1     -1         0   \n",
       "4       54      184    5       673         2     -1         0   \n",
       "...    ...      ...  ...       ...       ...    ...       ...   \n",
       "11157   33        1   20       257         1     -1         0   \n",
       "11158   39      733   16        83         4     -1         0   \n",
       "11159   32       29   19       156         2     -1         0   \n",
       "11160   43        0    8         9         2    172         5   \n",
       "11161   34        0    9       628         1     -1         0   \n",
       "\n",
       "       job_blue-collar  job_entrepreneur  job_housemaid  job_management  \\\n",
       "0                    0                 0              0               0   \n",
       "1                    0                 0              0               0   \n",
       "2                    0                 0              0               0   \n",
       "3                    0                 0              0               0   \n",
       "4                    0                 0              0               0   \n",
       "...                ...               ...            ...             ...   \n",
       "11157                1                 0              0               0   \n",
       "11158                0                 0              0               0   \n",
       "11159                0                 0              0               0   \n",
       "11160                0                 0              0               0   \n",
       "11161                0                 0              0               0   \n",
       "\n",
       "       job_retired  job_self-employed  job_services  job_student  \\\n",
       "0                0                  0             0            0   \n",
       "1                0                  0             0            0   \n",
       "2                0                  0             0            0   \n",
       "3                0                  0             1            0   \n",
       "4                0                  0             0            0   \n",
       "...            ...                ...           ...          ...   \n",
       "11157            0                  0             0            0   \n",
       "11158            0                  0             1            0   \n",
       "11159            0                  0             0            0   \n",
       "11160            0                  0             0            0   \n",
       "11161            0                  0             0            0   \n",
       "\n",
       "       job_technician  job_unemployed  job_unknown  marital_married  \\\n",
       "0                   0               0            0                1   \n",
       "1                   0               0            0                1   \n",
       "2                   1               0            0                1   \n",
       "3                   0               0            0                1   \n",
       "4                   0               0            0                1   \n",
       "...               ...             ...          ...              ...   \n",
       "11157               0               0            0                0   \n",
       "11158               0               0            0                1   \n",
       "11159               1               0            0                0   \n",
       "11160               1               0            0                1   \n",
       "11161               1               0            0                1   \n",
       "\n",
       "       marital_single  education_secondary  education_tertiary  \\\n",
       "0                   0                    1                   0   \n",
       "1                   0                    1                   0   \n",
       "2                   0                    1                   0   \n",
       "3                   0                    1                   0   \n",
       "4                   0                    0                   1   \n",
       "...               ...                  ...                 ...   \n",
       "11157               1                    0                   0   \n",
       "11158               0                    1                   0   \n",
       "11159               1                    1                   0   \n",
       "11160               0                    1                   0   \n",
       "11161               0                    1                   0   \n",
       "\n",
       "       education_unknown  default_yes  housing_yes  loan_yes  \\\n",
       "0                      0            0            1         0   \n",
       "1                      0            0            0         0   \n",
       "2                      0            0            1         0   \n",
       "3                      0            0            1         0   \n",
       "4                      0            0            0         0   \n",
       "...                  ...          ...          ...       ...   \n",
       "11157                  0            0            1         0   \n",
       "11158                  0            0            0         0   \n",
       "11159                  0            0            0         0   \n",
       "11160                  0            0            0         1   \n",
       "11161                  0            0            0         0   \n",
       "\n",
       "       contact_telephone  contact_unknown  month_aug  month_dec  month_feb  \\\n",
       "0                      0                1          0          0          0   \n",
       "1                      0                1          0          0          0   \n",
       "2                      0                1          0          0          0   \n",
       "3                      0                1          0          0          0   \n",
       "4                      0                1          0          0          0   \n",
       "...                  ...              ...        ...        ...        ...   \n",
       "11157                  0                0          0          0          0   \n",
       "11158                  0                1          0          0          0   \n",
       "11159                  0                0          1          0          0   \n",
       "11160                  0                0          0          0          0   \n",
       "11161                  0                0          0          0          0   \n",
       "\n",
       "       month_jan  month_jul  month_jun  month_mar  month_may  month_nov  \\\n",
       "0              0          0          0          0          1          0   \n",
       "1              0          0          0          0          1          0   \n",
       "2              0          0          0          0          1          0   \n",
       "3              0          0          0          0          1          0   \n",
       "4              0          0          0          0          1          0   \n",
       "...          ...        ...        ...        ...        ...        ...   \n",
       "11157          0          0          0          0          0          0   \n",
       "11158          0          0          1          0          0          0   \n",
       "11159          0          0          0          0          0          0   \n",
       "11160          0          0          0          0          1          0   \n",
       "11161          0          1          0          0          0          0   \n",
       "\n",
       "       month_oct  month_sep  poutcome_other  poutcome_success  \\\n",
       "0              0          0               0                 0   \n",
       "1              0          0               0                 0   \n",
       "2              0          0               0                 0   \n",
       "3              0          0               0                 0   \n",
       "4              0          0               0                 0   \n",
       "...          ...        ...             ...               ...   \n",
       "11157          0          0               0                 0   \n",
       "11158          0          0               0                 0   \n",
       "11159          0          0               0                 0   \n",
       "11160          0          0               0                 0   \n",
       "11161          0          0               0                 0   \n",
       "\n",
       "       poutcome_unknown  deposit  \n",
       "0                     1        1  \n",
       "1                     1        1  \n",
       "2                     1        1  \n",
       "3                     1        1  \n",
       "4                     1        1  \n",
       "...                 ...      ...  \n",
       "11157                 1        0  \n",
       "11158                 1        0  \n",
       "11159                 1        0  \n",
       "11160                 0        0  \n",
       "11161                 1        0  \n",
       "\n",
       "[11162 rows x 43 columns]"
      ]
     },
     "execution_count": 62,
     "metadata": {},
     "output_type": "execute_result"
    }
   ],
   "source": [
    "final_df"
   ]
  },
  {
   "cell_type": "code",
   "execution_count": null,
   "id": "c51651ab",
   "metadata": {},
   "outputs": [],
   "source": []
  },
  {
   "cell_type": "code",
   "execution_count": null,
   "id": "e21d56c4",
   "metadata": {},
   "outputs": [],
   "source": []
  },
  {
   "cell_type": "markdown",
   "id": "1c6ffb38",
   "metadata": {},
   "source": [
    "## <span style = \"color: orange\"> Visualization </span>"
   ]
  },
  {
   "cell_type": "markdown",
   "id": "88455fb6",
   "metadata": {},
   "source": [
    "### Plot a displot of age"
   ]
  },
  {
   "cell_type": "code",
   "execution_count": 64,
   "id": "8b0697d9",
   "metadata": {},
   "outputs": [
    {
     "name": "stderr",
     "output_type": "stream",
     "text": [
      "C:\\Users\\windows 11\\anaconda3\\Lib\\site-packages\\seaborn\\axisgrid.py:118: UserWarning: The figure layout has changed to tight\n",
      "  self._figure.tight_layout(*args, **kwargs)\n"
     ]
    },
    {
     "data": {
      "text/plain": [
       "<seaborn.axisgrid.FacetGrid at 0x1d94e30bf10>"
      ]
     },
     "execution_count": 64,
     "metadata": {},
     "output_type": "execute_result"
    },
    {
     "data": {
      "image/png": "[encoded data removed]",
      "text/plain": [
       "<Figure size 500x500 with 1 Axes>"
      ]
     },
     "metadata": {},
     "output_type": "display_data"
    }
   ],
   "source": [
    "sns.displot(data=df,x='age')"
   ]
  },
  {
   "cell_type": "code",
   "execution_count": 9,
   "id": "e98b3fd5",
   "metadata": {},
   "outputs": [
    {
     "ename": "NameError",
     "evalue": "name 'sns' is not defined",
     "output_type": "error",
     "traceback": [
      "\u001b[1;31m---------------------------------------------------------------------------\u001b[0m",
      "\u001b[1;31mNameError\u001b[0m                                 Traceback (most recent call last)",
      "Cell \u001b[1;32mIn[9], line 1\u001b[0m\n\u001b[1;32m----> 1\u001b[0m sf\u001b[38;5;241m=\u001b[39msns\u001b[38;5;241m.\u001b[39mdistplot(a\u001b[38;5;241m=\u001b[39mdf[\u001b[38;5;124m'\u001b[39m\u001b[38;5;124mage\u001b[39m\u001b[38;5;124m'\u001b[39m])\n\u001b[0;32m      2\u001b[0m sf\n",
      "\u001b[1;31mNameError\u001b[0m: name 'sns' is not defined"
     ]
    }
   ],
   "source": [
    "sf=sns.distplot(a=df['age'])\n",
    "sf"
   ]
  },
  {
   "cell_type": "code",
   "execution_count": null,
   "id": "0823d346",
   "metadata": {},
   "outputs": [],
   "source": []
  },
  {
   "cell_type": "markdown",
   "id": "7a502cee",
   "metadata": {},
   "source": [
    "### Make a visualization of number of deposits per month"
   ]
  },
  {
   "cell_type": "code",
   "execution_count": 69,
   "id": "178c5e09",
   "metadata": {},
   "outputs": [
    {
     "data": {
      "text/plain": [
       "<Axes: xlabel='month', ylabel='count'>"
      ]
     },
     "execution_count": 69,
     "metadata": {},
     "output_type": "execute_result"
    },
    {
     "data": {
      "image/png": "[encoded data removed]",
      "text/plain": [
       "<Figure size 640x480 with 1 Axes>"
      ]
     },
     "metadata": {},
     "output_type": "display_data"
    }
   ],
   "source": [
    "sns.countplot(data=df,x='month')"
   ]
  },
  {
   "cell_type": "code",
   "execution_count": 29,
   "id": "c66bec2f",
   "metadata": {},
   "outputs": [
    {
     "data": {
      "image/png": "[encoded data removed]",
      "text/plain": [
       "<Figure size 432x288 with 1 Axes>"
      ]
     },
     "metadata": {
      "needs_background": "light"
     },
     "output_type": "display_data"
    }
   ],
   "source": []
  },
  {
   "cell_type": "markdown",
   "id": "3c54f3cf",
   "metadata": {},
   "source": [
    "### Plot a countplot of 'housing' to visualize number of customers having housing loan"
   ]
  },
  {
   "cell_type": "code",
   "execution_count": 70,
   "id": "df3bed0f",
   "metadata": {},
   "outputs": [
    {
     "data": {
      "text/plain": [
       "<Axes: xlabel='housing', ylabel='count'>"
      ]
     },
     "execution_count": 70,
     "metadata": {},
     "output_type": "execute_result"
    },
    {
     "data": {
      "image/png": "[encoded data removed]",
      "text/plain": [
       "<Figure size 640x480 with 1 Axes>"
      ]
     },
     "metadata": {},
     "output_type": "display_data"
    }
   ],
   "source": [
    "sns.countplot(x=df['housing'])"
   ]
  },
  {
   "cell_type": "code",
   "execution_count": null,
   "id": "016cf0a0",
   "metadata": {},
   "outputs": [],
   "source": []
  },
  {
   "cell_type": "markdown",
   "id": "989672e2",
   "metadata": {},
   "source": [
    "### Plot a countplot to view the education of customers"
   ]
  },
  {
   "cell_type": "code",
   "execution_count": 71,
   "id": "04e4cfdd",
   "metadata": {},
   "outputs": [
    {
     "data": {
      "text/plain": [
       "<Axes: xlabel='education', ylabel='count'>"
      ]
     },
     "execution_count": 71,
     "metadata": {},
     "output_type": "execute_result"
    },
    {
     "data": {
      "image/png": "[encoded data removed]",
      "text/plain": [
       "<Figure size 640x480 with 1 Axes>"
      ]
     },
     "metadata": {},
     "output_type": "display_data"
    }
   ],
   "source": [
    "sns.countplot(x=df['education'])"
   ]
  },
  {
   "cell_type": "markdown",
   "id": "6224af73",
   "metadata": {},
   "source": [
    "### Create a plot to visualize the count of jobs"
   ]
  },
  {
   "cell_type": "code",
   "execution_count": 72,
   "id": "002d235f",
   "metadata": {},
   "outputs": [
    {
     "data": {
      "image/png": "[encoded data removed]",
      "text/plain": [
       "<Figure size 640x480 with 1 Axes>"
      ]
     },
     "metadata": {},
     "output_type": "display_data"
    }
   ],
   "source": [
    "sns.countplot(x=df.job)\n",
    "plt.xticks(rotation=30)\n",
    "plt.show()"
   ]
  },
  {
   "cell_type": "markdown",
   "id": "9d6bde5e",
   "metadata": {},
   "source": [
    "### Plot a heatmap to view the correlation between features"
   ]
  },
  {
   "cell_type": "code",
   "execution_count": 73,
   "id": "221d8734",
   "metadata": {},
   "outputs": [
    {
     "data": {
      "text/plain": [
       "Index(['age', 'job', 'marital', 'education', 'default', 'balance', 'housing',\n",
       "       'loan', 'contact', 'day', 'month', 'duration', 'campaign', 'pdays',\n",
       "       'previous', 'poutcome', 'deposit'],\n",
       "      dtype='object')"
      ]
     },
     "execution_count": 73,
     "metadata": {},
     "output_type": "execute_result"
    }
   ],
   "source": [
    "df.columns"
   ]
  },
  {
   "cell_type": "code",
   "execution_count": 75,
   "id": "2aab6ac1",
   "metadata": {},
   "outputs": [
    {
     "data": {
      "text/plain": [
       "<Axes: >"
      ]
     },
     "execution_count": 75,
     "metadata": {},
     "output_type": "execute_result"
    },
    {
     "data": {
      "image/png": "[encoded data removed]",
      "text/plain": [
       "<Figure size 2000x2000 with 2 Axes>"
      ]
     },
     "metadata": {},
     "output_type": "display_data"
    }
   ],
   "source": [
    "plt.figure(figsize=(20,20))\n",
    "sns.heatmap(final_df.corr())"
   ]
  },
  {
   "cell_type": "code",
   "execution_count": null,
   "id": "874314a1",
   "metadata": {},
   "outputs": [],
   "source": []
  },
  {
   "cell_type": "markdown",
   "id": "aa371e45",
   "metadata": {},
   "source": [
    "### Split the dataset into input and target variables"
   ]
  },
  {
   "cell_type": "code",
   "execution_count": 80,
   "id": "9fd39264",
   "metadata": {},
   "outputs": [],
   "source": [
    "X ,y = final_df.drop(columns='deposit'),final_df['deposit']"
   ]
  },
  {
   "cell_type": "markdown",
   "id": "94073333",
   "metadata": {},
   "source": [
    "### Standardise our dataset using StandardScaler"
   ]
  },
  {
   "cell_type": "code",
   "execution_count": 81,
   "id": "1121151c",
   "metadata": {},
   "outputs": [],
   "source": [
    "from sklearn.preprocessing import StandardScaler"
   ]
  },
  {
   "cell_type": "code",
   "execution_count": 82,
   "id": "8897f71c",
   "metadata": {},
   "outputs": [],
   "source": [
    "ss = StandardScaler()"
   ]
  },
  {
   "cell_type": "code",
   "execution_count": 83,
   "id": "d1039e97",
   "metadata": {},
   "outputs": [],
   "source": [
    "X = pd.DataFrame(ss.fit_transform(X),columns=ss.get_feature_names_out())"
   ]
  },
  {
   "cell_type": "code",
   "execution_count": 84,
   "id": "dbbd4936",
   "metadata": {},
   "outputs": [
    {
     "data": {
      "text/html": [
       "<div>\n",
       "<style scoped>\n",
       "    .dataframe tbody tr th:only-of-type {\n",
       "        vertical-align: middle;\n",
       "    }\n",
       "\n",
       "    .dataframe tbody tr th {\n",
       "        vertical-align: top;\n",
       "    }\n",
       "\n",
       "    .dataframe thead th {\n",
       "        text-align: right;\n",
       "    }\n",
       "</style>\n",
       "<table border=\"1\" class=\"dataframe\">\n",
       "  <thead>\n",
       "    <tr style=\"text-align: right;\">\n",
       "      <th></th>\n",
       "      <th>age</th>\n",
       "      <th>balance</th>\n",
       "      <th>day</th>\n",
       "      <th>duration</th>\n",
       "      <th>campaign</th>\n",
       "      <th>pdays</th>\n",
       "      <th>previous</th>\n",
       "      <th>job_blue-collar</th>\n",
       "      <th>job_entrepreneur</th>\n",
       "      <th>job_housemaid</th>\n",
       "      <th>job_management</th>\n",
       "      <th>job_retired</th>\n",
       "      <th>job_self-employed</th>\n",
       "      <th>job_services</th>\n",
       "      <th>job_student</th>\n",
       "      <th>job_technician</th>\n",
       "      <th>job_unemployed</th>\n",
       "      <th>job_unknown</th>\n",
       "      <th>marital_married</th>\n",
       "      <th>marital_single</th>\n",
       "      <th>education_secondary</th>\n",
       "      <th>education_tertiary</th>\n",
       "      <th>education_unknown</th>\n",
       "      <th>default_yes</th>\n",
       "      <th>housing_yes</th>\n",
       "      <th>loan_yes</th>\n",
       "      <th>contact_telephone</th>\n",
       "      <th>contact_unknown</th>\n",
       "      <th>month_aug</th>\n",
       "      <th>month_dec</th>\n",
       "      <th>month_feb</th>\n",
       "      <th>month_jan</th>\n",
       "      <th>month_jul</th>\n",
       "      <th>month_jun</th>\n",
       "      <th>month_mar</th>\n",
       "      <th>month_may</th>\n",
       "      <th>month_nov</th>\n",
       "      <th>month_oct</th>\n",
       "      <th>month_sep</th>\n",
       "      <th>poutcome_other</th>\n",
       "      <th>poutcome_success</th>\n",
       "      <th>poutcome_unknown</th>\n",
       "    </tr>\n",
       "  </thead>\n",
       "  <tbody>\n",
       "    <tr>\n",
       "      <th>0</th>\n",
       "      <td>1.491505</td>\n",
       "      <td>0.252525</td>\n",
       "      <td>-1.265746</td>\n",
       "      <td>1.930226</td>\n",
       "      <td>-0.554168</td>\n",
       "      <td>-0.481184</td>\n",
       "      <td>-0.36326</td>\n",
       "      <td>-0.459229</td>\n",
       "      <td>-0.173997</td>\n",
       "      <td>-0.158636</td>\n",
       "      <td>-0.546362</td>\n",
       "      <td>-0.273721</td>\n",
       "      <td>-0.194036</td>\n",
       "      <td>-0.300242</td>\n",
       "      <td>-0.182557</td>\n",
       "      <td>-0.441818</td>\n",
       "      <td>-0.18177</td>\n",
       "      <td>-0.079441</td>\n",
       "      <td>0.870355</td>\n",
       "      <td>-0.678403</td>\n",
       "      <td>1.018994</td>\n",
       "      <td>-0.702598</td>\n",
       "      <td>-0.215873</td>\n",
       "      <td>-0.123617</td>\n",
       "      <td>1.055280</td>\n",
       "      <td>-0.387923</td>\n",
       "      <td>-0.272963</td>\n",
       "      <td>1.938527</td>\n",
       "      <td>-0.396892</td>\n",
       "      <td>-0.099764</td>\n",
       "      <td>-0.273342</td>\n",
       "      <td>-0.178322</td>\n",
       "      <td>-0.396136</td>\n",
       "      <td>-0.350625</td>\n",
       "      <td>-0.159228</td>\n",
       "      <td>1.718298</td>\n",
       "      <td>-0.303775</td>\n",
       "      <td>-0.190781</td>\n",
       "      <td>-0.171522</td>\n",
       "      <td>-0.224814</td>\n",
       "      <td>-0.325782</td>\n",
       "      <td>0.583626</td>\n",
       "    </tr>\n",
       "    <tr>\n",
       "      <th>1</th>\n",
       "      <td>1.239676</td>\n",
       "      <td>-0.459974</td>\n",
       "      <td>-1.265746</td>\n",
       "      <td>3.154612</td>\n",
       "      <td>-0.554168</td>\n",
       "      <td>-0.481184</td>\n",
       "      <td>-0.36326</td>\n",
       "      <td>-0.459229</td>\n",
       "      <td>-0.173997</td>\n",
       "      <td>-0.158636</td>\n",
       "      <td>-0.546362</td>\n",
       "      <td>-0.273721</td>\n",
       "      <td>-0.194036</td>\n",
       "      <td>-0.300242</td>\n",
       "      <td>-0.182557</td>\n",
       "      <td>-0.441818</td>\n",
       "      <td>-0.18177</td>\n",
       "      <td>-0.079441</td>\n",
       "      <td>0.870355</td>\n",
       "      <td>-0.678403</td>\n",
       "      <td>1.018994</td>\n",
       "      <td>-0.702598</td>\n",
       "      <td>-0.215873</td>\n",
       "      <td>-0.123617</td>\n",
       "      <td>-0.947616</td>\n",
       "      <td>-0.387923</td>\n",
       "      <td>-0.272963</td>\n",
       "      <td>1.938527</td>\n",
       "      <td>-0.396892</td>\n",
       "      <td>-0.099764</td>\n",
       "      <td>-0.273342</td>\n",
       "      <td>-0.178322</td>\n",
       "      <td>-0.396136</td>\n",
       "      <td>-0.350625</td>\n",
       "      <td>-0.159228</td>\n",
       "      <td>1.718298</td>\n",
       "      <td>-0.303775</td>\n",
       "      <td>-0.190781</td>\n",
       "      <td>-0.171522</td>\n",
       "      <td>-0.224814</td>\n",
       "      <td>-0.325782</td>\n",
       "      <td>0.583626</td>\n",
       "    </tr>\n",
       "    <tr>\n",
       "      <th>2</th>\n",
       "      <td>-0.019470</td>\n",
       "      <td>-0.080160</td>\n",
       "      <td>-1.265746</td>\n",
       "      <td>2.929901</td>\n",
       "      <td>-0.554168</td>\n",
       "      <td>-0.481184</td>\n",
       "      <td>-0.36326</td>\n",
       "      <td>-0.459229</td>\n",
       "      <td>-0.173997</td>\n",
       "      <td>-0.158636</td>\n",
       "      <td>-0.546362</td>\n",
       "      <td>-0.273721</td>\n",
       "      <td>-0.194036</td>\n",
       "      <td>-0.300242</td>\n",
       "      <td>-0.182557</td>\n",
       "      <td>2.263377</td>\n",
       "      <td>-0.18177</td>\n",
       "      <td>-0.079441</td>\n",
       "      <td>0.870355</td>\n",
       "      <td>-0.678403</td>\n",
       "      <td>1.018994</td>\n",
       "      <td>-0.702598</td>\n",
       "      <td>-0.215873</td>\n",
       "      <td>-0.123617</td>\n",
       "      <td>1.055280</td>\n",
       "      <td>-0.387923</td>\n",
       "      <td>-0.272963</td>\n",
       "      <td>1.938527</td>\n",
       "      <td>-0.396892</td>\n",
       "      <td>-0.099764</td>\n",
       "      <td>-0.273342</td>\n",
       "      <td>-0.178322</td>\n",
       "      <td>-0.396136</td>\n",
       "      <td>-0.350625</td>\n",
       "      <td>-0.159228</td>\n",
       "      <td>1.718298</td>\n",
       "      <td>-0.303775</td>\n",
       "      <td>-0.190781</td>\n",
       "      <td>-0.171522</td>\n",
       "      <td>-0.224814</td>\n",
       "      <td>-0.325782</td>\n",
       "      <td>0.583626</td>\n",
       "    </tr>\n",
       "    <tr>\n",
       "      <th>3</th>\n",
       "      <td>1.155733</td>\n",
       "      <td>0.293762</td>\n",
       "      <td>-1.265746</td>\n",
       "      <td>0.596366</td>\n",
       "      <td>-0.554168</td>\n",
       "      <td>-0.481184</td>\n",
       "      <td>-0.36326</td>\n",
       "      <td>-0.459229</td>\n",
       "      <td>-0.173997</td>\n",
       "      <td>-0.158636</td>\n",
       "      <td>-0.546362</td>\n",
       "      <td>-0.273721</td>\n",
       "      <td>-0.194036</td>\n",
       "      <td>3.330642</td>\n",
       "      <td>-0.182557</td>\n",
       "      <td>-0.441818</td>\n",
       "      <td>-0.18177</td>\n",
       "      <td>-0.079441</td>\n",
       "      <td>0.870355</td>\n",
       "      <td>-0.678403</td>\n",
       "      <td>1.018994</td>\n",
       "      <td>-0.702598</td>\n",
       "      <td>-0.215873</td>\n",
       "      <td>-0.123617</td>\n",
       "      <td>1.055280</td>\n",
       "      <td>-0.387923</td>\n",
       "      <td>-0.272963</td>\n",
       "      <td>1.938527</td>\n",
       "      <td>-0.396892</td>\n",
       "      <td>-0.099764</td>\n",
       "      <td>-0.273342</td>\n",
       "      <td>-0.178322</td>\n",
       "      <td>-0.396136</td>\n",
       "      <td>-0.350625</td>\n",
       "      <td>-0.159228</td>\n",
       "      <td>1.718298</td>\n",
       "      <td>-0.303775</td>\n",
       "      <td>-0.190781</td>\n",
       "      <td>-0.171522</td>\n",
       "      <td>-0.224814</td>\n",
       "      <td>-0.325782</td>\n",
       "      <td>0.583626</td>\n",
       "    </tr>\n",
       "    <tr>\n",
       "      <th>4</th>\n",
       "      <td>1.071790</td>\n",
       "      <td>-0.416876</td>\n",
       "      <td>-1.265746</td>\n",
       "      <td>0.867171</td>\n",
       "      <td>-0.186785</td>\n",
       "      <td>-0.481184</td>\n",
       "      <td>-0.36326</td>\n",
       "      <td>-0.459229</td>\n",
       "      <td>-0.173997</td>\n",
       "      <td>-0.158636</td>\n",
       "      <td>-0.546362</td>\n",
       "      <td>-0.273721</td>\n",
       "      <td>-0.194036</td>\n",
       "      <td>-0.300242</td>\n",
       "      <td>-0.182557</td>\n",
       "      <td>-0.441818</td>\n",
       "      <td>-0.18177</td>\n",
       "      <td>-0.079441</td>\n",
       "      <td>0.870355</td>\n",
       "      <td>-0.678403</td>\n",
       "      <td>-0.981360</td>\n",
       "      <td>1.423289</td>\n",
       "      <td>-0.215873</td>\n",
       "      <td>-0.123617</td>\n",
       "      <td>-0.947616</td>\n",
       "      <td>-0.387923</td>\n",
       "      <td>-0.272963</td>\n",
       "      <td>1.938527</td>\n",
       "      <td>-0.396892</td>\n",
       "      <td>-0.099764</td>\n",
       "      <td>-0.273342</td>\n",
       "      <td>-0.178322</td>\n",
       "      <td>-0.396136</td>\n",
       "      <td>-0.350625</td>\n",
       "      <td>-0.159228</td>\n",
       "      <td>1.718298</td>\n",
       "      <td>-0.303775</td>\n",
       "      <td>-0.190781</td>\n",
       "      <td>-0.171522</td>\n",
       "      <td>-0.224814</td>\n",
       "      <td>-0.325782</td>\n",
       "      <td>0.583626</td>\n",
       "    </tr>\n",
       "  </tbody>\n",
       "</table>\n",
       "</div>"
      ],
      "text/plain": [
       "        age   balance       day  duration  campaign     pdays  previous  \\\n",
       "0  1.491505  0.252525 -1.265746  1.930226 -0.554168 -0.481184  -0.36326   \n",
       "1  1.239676 -0.459974 -1.265746  3.154612 -0.554168 -0.481184  -0.36326   \n",
       "2 -0.019470 -0.080160 -1.265746  2.929901 -0.554168 -0.481184  -0.36326   \n",
       "3  1.155733  0.293762 -1.265746  0.596366 -0.554168 -0.481184  -0.36326   \n",
       "4  1.071790 -0.416876 -1.265746  0.867171 -0.186785 -0.481184  -0.36326   \n",
       "\n",
       "   job_blue-collar  job_entrepreneur  job_housemaid  job_management  \\\n",
       "0        -0.459229         -0.173997      -0.158636       -0.546362   \n",
       "1        -0.459229         -0.173997      -0.158636       -0.546362   \n",
       "2        -0.459229         -0.173997      -0.158636       -0.546362   \n",
       "3        -0.459229         -0.173997      -0.158636       -0.546362   \n",
       "4        -0.459229         -0.173997      -0.158636       -0.546362   \n",
       "\n",
       "   job_retired  job_self-employed  job_services  job_student  job_technician  \\\n",
       "0    -0.273721          -0.194036     -0.300242    -0.182557       -0.441818   \n",
       "1    -0.273721          -0.194036     -0.300242    -0.182557       -0.441818   \n",
       "2    -0.273721          -0.194036     -0.300242    -0.182557        2.263377   \n",
       "3    -0.273721          -0.194036      3.330642    -0.182557       -0.441818   \n",
       "4    -0.273721          -0.194036     -0.300242    -0.182557       -0.441818   \n",
       "\n",
       "   job_unemployed  job_unknown  marital_married  marital_single  \\\n",
       "0        -0.18177    -0.079441         0.870355       -0.678403   \n",
       "1        -0.18177    -0.079441         0.870355       -0.678403   \n",
       "2        -0.18177    -0.079441         0.870355       -0.678403   \n",
       "3        -0.18177    -0.079441         0.870355       -0.678403   \n",
       "4        -0.18177    -0.079441         0.870355       -0.678403   \n",
       "\n",
       "   education_secondary  education_tertiary  education_unknown  default_yes  \\\n",
       "0             1.018994           -0.702598          -0.215873    -0.123617   \n",
       "1             1.018994           -0.702598          -0.215873    -0.123617   \n",
       "2             1.018994           -0.702598          -0.215873    -0.123617   \n",
       "3             1.018994           -0.702598          -0.215873    -0.123617   \n",
       "4            -0.981360            1.423289          -0.215873    -0.123617   \n",
       "\n",
       "   housing_yes  loan_yes  contact_telephone  contact_unknown  month_aug  \\\n",
       "0     1.055280 -0.387923          -0.272963         1.938527  -0.396892   \n",
       "1    -0.947616 -0.387923          -0.272963         1.938527  -0.396892   \n",
       "2     1.055280 -0.387923          -0.272963         1.938527  -0.396892   \n",
       "3     1.055280 -0.387923          -0.272963         1.938527  -0.396892   \n",
       "4    -0.947616 -0.387923          -0.272963         1.938527  -0.396892   \n",
       "\n",
       "   month_dec  month_feb  month_jan  month_jul  month_jun  month_mar  \\\n",
       "0  -0.099764  -0.273342  -0.178322  -0.396136  -0.350625  -0.159228   \n",
       "1  -0.099764  -0.273342  -0.178322  -0.396136  -0.350625  -0.159228   \n",
       "2  -0.099764  -0.273342  -0.178322  -0.396136  -0.350625  -0.159228   \n",
       "3  -0.099764  -0.273342  -0.178322  -0.396136  -0.350625  -0.159228   \n",
       "4  -0.099764  -0.273342  -0.178322  -0.396136  -0.350625  -0.159228   \n",
       "\n",
       "   month_may  month_nov  month_oct  month_sep  poutcome_other  \\\n",
       "0   1.718298  -0.303775  -0.190781  -0.171522       -0.224814   \n",
       "1   1.718298  -0.303775  -0.190781  -0.171522       -0.224814   \n",
       "2   1.718298  -0.303775  -0.190781  -0.171522       -0.224814   \n",
       "3   1.718298  -0.303775  -0.190781  -0.171522       -0.224814   \n",
       "4   1.718298  -0.303775  -0.190781  -0.171522       -0.224814   \n",
       "\n",
       "   poutcome_success  poutcome_unknown  \n",
       "0         -0.325782          0.583626  \n",
       "1         -0.325782          0.583626  \n",
       "2         -0.325782          0.583626  \n",
       "3         -0.325782          0.583626  \n",
       "4         -0.325782          0.583626  "
      ]
     },
     "execution_count": 84,
     "metadata": {},
     "output_type": "execute_result"
    }
   ],
   "source": [
    "X.head()"
   ]
  },
  {
   "cell_type": "markdown",
   "id": "d7ba7d2e",
   "metadata": {},
   "source": [
    "### Split dataset into training and testing set"
   ]
  },
  {
   "cell_type": "code",
   "execution_count": 85,
   "id": "f8c3b630",
   "metadata": {},
   "outputs": [],
   "source": [
    "from sklearn.model_selection import train_test_split"
   ]
  },
  {
   "cell_type": "code",
   "execution_count": 86,
   "id": "20968d4b",
   "metadata": {},
   "outputs": [],
   "source": [
    "X_train, X_test , y_train , y_test = train_test_split(X,y,random_state=42,test_size=.2)"
   ]
  },
  {
   "cell_type": "markdown",
   "id": "13eca657",
   "metadata": {},
   "source": [
    "### Check the shape of X_train and X_test"
   ]
  },
  {
   "cell_type": "code",
   "execution_count": 87,
   "id": "6a454fdc",
   "metadata": {},
   "outputs": [
    {
     "data": {
      "text/plain": [
       "(8929, 42)"
      ]
     },
     "execution_count": 87,
     "metadata": {},
     "output_type": "execute_result"
    }
   ],
   "source": [
    "X_train.shape"
   ]
  },
  {
   "cell_type": "code",
   "execution_count": 88,
   "id": "730e294a",
   "metadata": {},
   "outputs": [
    {
     "data": {
      "text/plain": [
       "(2233, 42)"
      ]
     },
     "execution_count": 88,
     "metadata": {},
     "output_type": "execute_result"
    }
   ],
   "source": [
    "X_test.shape"
   ]
  },
  {
   "cell_type": "markdown",
   "id": "6ccb70d0",
   "metadata": {},
   "source": [
    "### Create Decision Tree model and train it"
   ]
  },
  {
   "cell_type": "code",
   "execution_count": 89,
   "id": "1a339266",
   "metadata": {},
   "outputs": [],
   "source": [
    "from sklearn.tree import DecisionTreeClassifier"
   ]
  },
  {
   "cell_type": "code",
   "execution_count": 90,
   "id": "4a13031c",
   "metadata": {},
   "outputs": [],
   "source": [
    "dt = DecisionTreeClassifier()"
   ]
  },
  {
   "cell_type": "code",
   "execution_count": 91,
   "id": "c696f423",
   "metadata": {},
   "outputs": [
    {
     "data": {
      "text/html": [
       "<style>#sk-container-id-2 {color: black;}#sk-container-id-2 pre{padding: 0;}#sk-container-id-2 div.sk-toggleable {background-color: white;}#sk-container-id-2 label.sk-toggleable__label {cursor: pointer;display: block;width: 100%;margin-bottom: 0;padding: 0.3em;box-sizing: border-box;text-align: center;}#sk-container-id-2 label.sk-toggleable__label-arrow:before {content: \"▸\";float: left;margin-right: 0.25em;color: #696969;}#sk-container-id-2 label.sk-toggleable__label-arrow:hover:before {color: black;}#sk-container-id-2 div.sk-estimator:hover label.sk-toggleable__label-arrow:before {color: black;}#sk-container-id-2 div.sk-toggleable__content {max-height: 0;max-width: 0;overflow: hidden;text-align: left;background-color: #f0f8ff;}#sk-container-id-2 div.sk-toggleable__content pre {margin: 0.2em;color: black;border-radius: 0.25em;background-color: #f0f8ff;}#sk-container-id-2 input.sk-toggleable__control:checked~div.sk-toggleable__content {max-height: 200px;max-width: 100%;overflow: auto;}#sk-container-id-2 input.sk-toggleable__control:checked~label.sk-toggleable__label-arrow:before {content: \"▾\";}#sk-container-id-2 div.sk-estimator input.sk-toggleable__control:checked~label.sk-toggleable__label {background-color: #d4ebff;}#sk-container-id-2 div.sk-label input.sk-toggleable__control:checked~label.sk-toggleable__label {background-color: #d4ebff;}#sk-container-id-2 input.sk-hidden--visually {border: 0;clip: rect(1px 1px 1px 1px);clip: rect(1px, 1px, 1px, 1px);height: 1px;margin: -1px;overflow: hidden;padding: 0;position: absolute;width: 1px;}#sk-container-id-2 div.sk-estimator {font-family: monospace;background-color: #f0f8ff;border: 1px dotted black;border-radius: 0.25em;box-sizing: border-box;margin-bottom: 0.5em;}#sk-container-id-2 div.sk-estimator:hover {background-color: #d4ebff;}#sk-container-id-2 div.sk-parallel-item::after {content: \"\";width: 100%;border-bottom: 1px solid gray;flex-grow: 1;}#sk-container-id-2 div.sk-label:hover label.sk-toggleable__label {background-color: #d4ebff;}#sk-container-id-2 div.sk-serial::before {content: \"\";position: absolute;border-left: 1px solid gray;box-sizing: border-box;top: 0;bottom: 0;left: 50%;z-index: 0;}#sk-container-id-2 div.sk-serial {display: flex;flex-direction: column;align-items: center;background-color: white;padding-right: 0.2em;padding-left: 0.2em;position: relative;}#sk-container-id-2 div.sk-item {position: relative;z-index: 1;}#sk-container-id-2 div.sk-parallel {display: flex;align-items: stretch;justify-content: center;background-color: white;position: relative;}#sk-container-id-2 div.sk-item::before, #sk-container-id-2 div.sk-parallel-item::before {content: \"\";position: absolute;border-left: 1px solid gray;box-sizing: border-box;top: 0;bottom: 0;left: 50%;z-index: -1;}#sk-container-id-2 div.sk-parallel-item {display: flex;flex-direction: column;z-index: 1;position: relative;background-color: white;}#sk-container-id-2 div.sk-parallel-item:first-child::after {align-self: flex-end;width: 50%;}#sk-container-id-2 div.sk-parallel-item:last-child::after {align-self: flex-start;width: 50%;}#sk-container-id-2 div.sk-parallel-item:only-child::after {width: 0;}#sk-container-id-2 div.sk-dashed-wrapped {border: 1px dashed gray;margin: 0 0.4em 0.5em 0.4em;box-sizing: border-box;padding-bottom: 0.4em;background-color: white;}#sk-container-id-2 div.sk-label label {font-family: monospace;font-weight: bold;display: inline-block;line-height: 1.2em;}#sk-container-id-2 div.sk-label-container {text-align: center;}#sk-container-id-2 div.sk-container {/* jupyter's `normalize.less` sets `[hidden] { display: none; }` but bootstrap.min.css set `[hidden] { display: none !important; }` so we also need the `!important` here to be able to override the default hidden behavior on the sphinx rendered scikit-learn.org. See: https://github.com/scikit-learn/scikit-learn/issues/21755 */display: inline-block !important;position: relative;}#sk-container-id-2 div.sk-text-repr-fallback {display: none;}</style><div id=\"sk-container-id-2\" class=\"sk-top-container\"><div class=\"sk-text-repr-fallback\"><pre>DecisionTreeClassifier()</pre><b>In a Jupyter environment, please rerun this cell to show the HTML representation or trust the notebook. <br />On GitHub, the HTML representation is unable to render, please try loading this page with nbviewer.org.</b></div><div class=\"sk-container\" hidden><div class=\"sk-item\"><div class=\"sk-estimator sk-toggleable\"><input class=\"sk-toggleable__control sk-hidden--visually\" id=\"sk-estimator-id-2\" type=\"checkbox\" checked><label for=\"sk-estimator-id-2\" class=\"sk-toggleable__label sk-toggleable__label-arrow\">DecisionTreeClassifier</label><div class=\"sk-toggleable__content\"><pre>DecisionTreeClassifier()</pre></div></div></div></div></div>"
      ],
      "text/plain": [
       "DecisionTreeClassifier()"
      ]
     },
     "execution_count": 91,
     "metadata": {},
     "output_type": "execute_result"
    }
   ],
   "source": [
    "#Train the model\n",
    "dt.fit(X_train,y_train)"
   ]
  },
  {
   "cell_type": "markdown",
   "id": "c6fcd3b6",
   "metadata": {},
   "source": [
    "### Check the score of our model"
   ]
  },
  {
   "cell_type": "code",
   "execution_count": 92,
   "id": "9014b9f3",
   "metadata": {},
   "outputs": [
    {
     "data": {
      "text/plain": [
       "1.0"
      ]
     },
     "execution_count": 92,
     "metadata": {},
     "output_type": "execute_result"
    }
   ],
   "source": [
    "dt.score(X_train,y_train)"
   ]
  },
  {
   "cell_type": "markdown",
   "id": "5334babc",
   "metadata": {},
   "source": [
    "### Predict using X_test"
   ]
  },
  {
   "cell_type": "code",
   "execution_count": 93,
   "id": "03ee0aa1",
   "metadata": {},
   "outputs": [],
   "source": [
    "y_pred = dt.predict(X_test)"
   ]
  },
  {
   "cell_type": "markdown",
   "id": "3e765a17",
   "metadata": {},
   "source": [
    "### Check the accuracy of our prediction"
   ]
  },
  {
   "cell_type": "code",
   "execution_count": 94,
   "id": "e3cbbe28",
   "metadata": {},
   "outputs": [],
   "source": [
    "from sklearn import metrics"
   ]
  },
  {
   "cell_type": "code",
   "execution_count": 95,
   "id": "33ec1819",
   "metadata": {},
   "outputs": [
    {
     "data": {
      "text/plain": [
       "0.7886251679355127"
      ]
     },
     "execution_count": 95,
     "metadata": {},
     "output_type": "execute_result"
    }
   ],
   "source": [
    "metrics.accuracy_score(y_test,y_pred)"
   ]
  },
  {
   "cell_type": "markdown",
   "id": "6be85131",
   "metadata": {},
   "source": [
    "### Create a confusion matrix"
   ]
  },
  {
   "cell_type": "code",
   "execution_count": 96,
   "id": "52cd9515",
   "metadata": {},
   "outputs": [
    {
     "data": {
      "text/plain": [
       "array([[945, 221],\n",
       "       [251, 816]], dtype=int64)"
      ]
     },
     "execution_count": 96,
     "metadata": {},
     "output_type": "execute_result"
    }
   ],
   "source": [
    "metrics.confusion_matrix(y_test,y_pred)"
   ]
  },
  {
   "cell_type": "markdown",
   "id": "ea7fc570",
   "metadata": {},
   "source": [
    "### Plot confusion matrix on heatmap"
   ]
  },
  {
   "cell_type": "code",
   "execution_count": 99,
   "id": "0d2355d3",
   "metadata": {},
   "outputs": [
    {
     "data": {
      "text/plain": [
       "<Axes: >"
      ]
     },
     "execution_count": 99,
     "metadata": {},
     "output_type": "execute_result"
    },
    {
     "data": {
      "image/png": "[encoded data removed]",
      "text/plain": [
       "<Figure size 640x480 with 2 Axes>"
      ]
     },
     "metadata": {},
     "output_type": "display_data"
    }
   ],
   "source": [
    "sns.heatmap(metrics.confusion_matrix(y_test,y_pred),annot=True,fmt='d')"
   ]
  },
  {
   "cell_type": "markdown",
   "id": "94ce910d",
   "metadata": {},
   "source": [
    "### Create classification report"
   ]
  },
  {
   "cell_type": "code",
   "execution_count": 98,
   "id": "93f43b40",
   "metadata": {},
   "outputs": [
    {
     "name": "stdout",
     "output_type": "stream",
     "text": [
      "              precision    recall  f1-score   support\n",
      "\n",
      "           0       0.79      0.81      0.80      1166\n",
      "           1       0.79      0.76      0.78      1067\n",
      "\n",
      "    accuracy                           0.79      2233\n",
      "   macro avg       0.79      0.79      0.79      2233\n",
      "weighted avg       0.79      0.79      0.79      2233\n",
      "\n"
     ]
    }
   ],
   "source": [
    "print(metrics.classification_report(y_test,y_pred))"
   ]
  },
  {
   "cell_type": "markdown",
   "id": "b4aa4b1e",
   "metadata": {},
   "source": [
    "***"
   ]
  },
  {
   "cell_type": "markdown",
   "id": "23a86beb",
   "metadata": {},
   "source": [
    "# <span style = \"color : green;font-size:40px\"> Great Job! </span>"
   ]
  }
 ],
 "metadata": {
  "kernelspec": {
   "display_name": "Python 3 (ipykernel)",
   "language": "python",
   "name": "python3"
  },
  "language_info": {
   "codemirror_mode": {
    "name": "ipython",
    "version": 3
   },
   "file_extension": ".py",
   "mimetype": "text/x-python",
   "name": "python",
   "nbconvert_exporter": "python",
   "pygments_lexer": "ipython3",
   "version": "3.12.4"
  }
 },
 "nbformat": 4,
 "nbformat_minor": 5
}
